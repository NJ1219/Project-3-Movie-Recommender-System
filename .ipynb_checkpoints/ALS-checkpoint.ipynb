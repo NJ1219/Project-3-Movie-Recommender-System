{
 "cells": [
  {
   "cell_type": "code",
   "execution_count": 1,
   "metadata": {},
   "outputs": [
    {
     "name": "stdout",
     "output_type": "stream",
     "text": [
      "X is:\n",
      " [[ 1  2  3]\n",
      " [ 5 10 15]]\n",
      "W is:\n",
      " [[4.64104680e-01 4.60521425e-01]\n",
      " [1.00947951e+01 2.77553851e-05]]\n",
      "H is:\n",
      " [[0.49530014 0.99060032 1.48590048]\n",
      " [1.67229763 3.34459522 5.01689283]]\n",
      "The Result of Matrix Multiplication of W and H is Same as X:\n",
      " [[ 1.          2.          3.        ]\n",
      " [ 4.99999978 10.00000002 15.00000006]]\n"
     ]
    }
   ],
   "source": [
    "# Understanding Non-Negative Matrix Factorization(NMF)\n",
    "from sklearn.decomposition import NMF\n",
    "import scipy.sparse as sparse\n",
    "from scipy.sparse.linalg import spsolve\n",
    "import numpy as np\n",
    "from numpy.linalg import solve\n",
    "import pandas as pd\n",
    "\n",
    "X = np.array([[1, 2, 3], [5, 10, 15]])\n",
    "print(\"X is:\\n\", X)\n",
    "model = NMF(n_components=2, init='random', random_state=42)\n",
    "W = model.fit_transform(X)\n",
    "H = model.components_\n",
    "print(\"W is:\\n\", W)\n",
    "print(\"H is:\\n\", H)\n",
    "print(\"The Result of Matrix Multiplication of W and H is Same as X:\\n\", np.matmul(W, H))"
   ]
  },
  {
   "cell_type": "markdown",
   "metadata": {},
   "source": [
    "### CODE REFERENCES \"Diff. Approaches of Building Recommender System\" on KAGGLE"
   ]
  },
  {
   "cell_type": "code",
   "execution_count": 5,
   "metadata": {},
   "outputs": [
    {
     "data": {
      "text/html": [
       "<div>\n",
       "<style scoped>\n",
       "    .dataframe tbody tr th:only-of-type {\n",
       "        vertical-align: middle;\n",
       "    }\n",
       "\n",
       "    .dataframe tbody tr th {\n",
       "        vertical-align: top;\n",
       "    }\n",
       "\n",
       "    .dataframe thead th {\n",
       "        text-align: right;\n",
       "    }\n",
       "</style>\n",
       "<table border=\"1\" class=\"dataframe\">\n",
       "  <thead>\n",
       "    <tr style=\"text-align: right;\">\n",
       "      <th></th>\n",
       "      <th>userId</th>\n",
       "      <th>movieId</th>\n",
       "      <th>rating</th>\n",
       "      <th>timestamp</th>\n",
       "    </tr>\n",
       "  </thead>\n",
       "  <tbody>\n",
       "    <tr>\n",
       "      <th>0</th>\n",
       "      <td>1</td>\n",
       "      <td>31</td>\n",
       "      <td>2.5</td>\n",
       "      <td>1260759144</td>\n",
       "    </tr>\n",
       "    <tr>\n",
       "      <th>1</th>\n",
       "      <td>1</td>\n",
       "      <td>1029</td>\n",
       "      <td>3.0</td>\n",
       "      <td>1260759179</td>\n",
       "    </tr>\n",
       "    <tr>\n",
       "      <th>2</th>\n",
       "      <td>1</td>\n",
       "      <td>1061</td>\n",
       "      <td>3.0</td>\n",
       "      <td>1260759182</td>\n",
       "    </tr>\n",
       "    <tr>\n",
       "      <th>3</th>\n",
       "      <td>1</td>\n",
       "      <td>1129</td>\n",
       "      <td>2.0</td>\n",
       "      <td>1260759185</td>\n",
       "    </tr>\n",
       "    <tr>\n",
       "      <th>4</th>\n",
       "      <td>1</td>\n",
       "      <td>1172</td>\n",
       "      <td>4.0</td>\n",
       "      <td>1260759205</td>\n",
       "    </tr>\n",
       "  </tbody>\n",
       "</table>\n",
       "</div>"
      ],
      "text/plain": [
       "   userId  movieId  rating   timestamp\n",
       "0       1       31     2.5  1260759144\n",
       "1       1     1029     3.0  1260759179\n",
       "2       1     1061     3.0  1260759182\n",
       "3       1     1129     2.0  1260759185\n",
       "4       1     1172     4.0  1260759205"
      ]
     },
     "execution_count": 5,
     "metadata": {},
     "output_type": "execute_result"
    }
   ],
   "source": [
    "ratings = pd.read_csv('./Data_Amar/ratings_small.csv')\n",
    "ratings.head()"
   ]
  },
  {
   "cell_type": "code",
   "execution_count": 10,
   "metadata": {},
   "outputs": [
    {
     "name": "stdout",
     "output_type": "stream",
     "text": [
      "There are 671 unique users and 9066 unique movies; so we need to prepare an matrix of size 671 by 9066.\n"
     ]
    }
   ],
   "source": [
    "len(ratings['movieId'].unique())\n",
    "nb_users  = ratings['userId'].nunique()\n",
    "nb_movies = ratings['movieId'].nunique()\n",
    "\n",
    "print(\"There are %d unique users and %d unique movies; so we need to prepare \" \n",
    "      \"an matrix of size %d by %d.\" %(nb_users, nb_movies, nb_users, nb_movies))"
   ]
  },
  {
   "cell_type": "code",
   "execution_count": 11,
   "metadata": {},
   "outputs": [
    {
     "name": "stdout",
     "output_type": "stream",
     "text": [
      "(671, 9066)\n",
      "[[0. 0. 0. ... 0. 0. 0.]\n",
      " [0. 0. 0. ... 0. 0. 0.]\n",
      " [0. 0. 0. ... 0. 0. 0.]\n",
      " ...\n",
      " [0. 0. 0. ... 0. 0. 0.]\n",
      " [4. 0. 0. ... 0. 0. 0.]\n",
      " [5. 0. 0. ... 0. 0. 0.]]\n"
     ]
    }
   ],
   "source": [
    "ratings_matrix = ratings.pivot_table(index=['userId'],columns=['movieId'],values='rating').reset_index(drop=True)\n",
    "ratings_matrix.fillna(0, inplace = True)\n",
    "\n",
    "data_matrix = np.array(ratings_matrix)\n",
    "print(data_matrix.shape)\n",
    "print(data_matrix)"
   ]
  },
  {
   "cell_type": "code",
   "execution_count": 12,
   "metadata": {},
   "outputs": [
    {
     "data": {
      "text/plain": [
       "2.5"
      ]
     },
     "execution_count": 12,
     "metadata": {},
     "output_type": "execute_result"
    }
   ],
   "source": [
    "data_matrix[0][30]"
   ]
  },
  {
   "cell_type": "code",
   "execution_count": 13,
   "metadata": {},
   "outputs": [],
   "source": [
    "model = NMF(n_components=2, init='random', random_state=42)\n",
    "user_vec = model.fit_transform(data_matrix)\n",
    "item_vec = model.components_.T\n",
    "\n",
    "def implicit_ALS(ratings, user_vec, item_vec, lambda_val, iteration, typ):                 \n",
    "    \n",
    "    ctr = 1\n",
    "\n",
    "    if typ == 'user':\n",
    "        while ctr <= iteration:\n",
    "            YTY = item_vec.T.dot(item_vec)\n",
    "            lambdaI = np.eye(YTY.shape[0]) * lambda_val\n",
    "\n",
    "            for u in range(user_vec.shape[0]):\n",
    "                user_vec[u, :] = solve((YTY + lambdaI), \n",
    "                                        ratings[u, :].dot(item_vec))\n",
    "            ctr += 1\n",
    "\n",
    "        return user_vec\n",
    "    \n",
    "    if typ == 'item':\n",
    "        while ctr <= iteration:\n",
    "            XTX = user_vec.T.dot(user_vec)\n",
    "            lambdaI = np.eye(XTX.shape[0]) * lambda_val\n",
    "            \n",
    "            for i in range(item_vec.shape[0]):\n",
    "                item_vec[i, :] = solve((XTX + lambdaI), \n",
    "                                        ratings[:, i].T.dot(user_vec))\n",
    "            ctr += 1\n",
    "        return item_vec\n",
    "        \n",
    "    \n",
    "user_vec = implicit_ALS(data_matrix, user_vec, item_vec, lambda_val=0.2,\n",
    "                        iteration=20, typ='user')\n",
    "item_vec = implicit_ALS(data_matrix, user_vec, item_vec, lambda_val=0.2,\n",
    "                        iteration=20, typ='item')\n",
    "\n",
    "def predict_all():\n",
    "        \"\"\" Predict ratings for every user and item. \"\"\"\n",
    "        predictions = np.zeros((user_vec.shape[0], \n",
    "                                item_vec.shape[0]))\n",
    "        for u in range(user_vec.shape[0]):\n",
    "            for i in range(item_vec.shape[0]):\n",
    "                predictions[u, i] = predict(u, i)\n",
    "                \n",
    "        return predictions\n",
    "def predict(u, i):\n",
    "    \"\"\" Single user and item prediction. \"\"\"\n",
    "    return user_vec[u, :].dot(item_vec[i, :].T)\n",
    "\n",
    "predict = predict_all()\n",
    "\n",
    "\n",
    "data_matrix_pred_ALS = np.where(data_matrix == 0, predict, data_matrix)\n",
    "\n",
    "#for i in range(data_matrix_pred_ALS.shape[0]):\n",
    "    #for j in range(data_matrix_pred_ALS.shape[1]):\n",
    "        #data_matrix_pred_ALS[i, j] = round(data_matrix_pred_ALS[i, j])\n",
    "\n",
    "#For measuring the performance we have to use the predicted matrix\n",
    "X_pred = np.zeros((nb_users, nb_movies))\n",
    "for i in range(predict.shape[0]):\n",
    "    for j in range(predict.shape[1]):\n",
    "        X_pred[i, j] = round(predict[i, j])"
   ]
  },
  {
   "cell_type": "code",
   "execution_count": null,
   "metadata": {},
   "outputs": [],
   "source": [
    "predict[0][0]"
   ]
  },
  {
   "cell_type": "code",
   "execution_count": null,
   "metadata": {},
   "outputs": [],
   "source": [
    "print(\"Original Rating Matrix: \\n\", data_matrix)"
   ]
  },
  {
   "cell_type": "code",
   "execution_count": 28,
   "metadata": {},
   "outputs": [
    {
     "data": {
      "text/plain": [
       "0.0"
      ]
     },
     "execution_count": 28,
     "metadata": {},
     "output_type": "execute_result"
    }
   ],
   "source": [
    "data_matrix[0][0]"
   ]
  },
  {
   "cell_type": "code",
   "execution_count": 48,
   "metadata": {},
   "outputs": [
    {
     "data": {
      "text/plain": [
       "0.04463731307654409"
      ]
     },
     "execution_count": 48,
     "metadata": {},
     "output_type": "execute_result"
    }
   ],
   "source": [
    "data_matrix_pred_ALS[0][0]"
   ]
  },
  {
   "cell_type": "code",
   "execution_count": 30,
   "metadata": {},
   "outputs": [
    {
     "name": "stdout",
     "output_type": "stream",
     "text": [
      "Rating Matrix After Applying ALS: \n",
      " [[ 4.46373131e-02  1.54574778e-02  1.84056942e-02 ... -2.18339524e-04\n",
      "  -1.31003714e-04  6.24331570e-03]\n",
      " [ 6.96105039e-01  2.80606536e-01  1.23278044e-01 ...  3.01565872e-04\n",
      "   1.80939523e-04  1.99343091e-02]\n",
      " [ 7.43268871e-01  3.11536338e-01  8.22893054e-02 ...  1.43882440e-03\n",
      "   8.63294639e-04 -2.04538774e-03]\n",
      " ...\n",
      " [ 2.70298530e-01  1.09112421e-01  4.72375538e-02 ...  1.31391749e-04\n",
      "   7.88350496e-05  7.44193420e-03]\n",
      " [ 4.00000000e+00  2.15794316e-01  8.02441656e-02 ...  5.26443779e-04\n",
      "   3.15866268e-04  8.88009291e-03]\n",
      " [ 5.00000000e+00  7.52684096e-01  2.37553694e-01 ...  2.69261007e-03\n",
      "   1.61556604e-03  1.22193737e-02]]\n"
     ]
    }
   ],
   "source": [
    "print(\"Rating Matrix After Applying ALS: \\n\", data_matrix_pred_ALS)"
   ]
  },
  {
   "cell_type": "code",
   "execution_count": 14,
   "metadata": {},
   "outputs": [
    {
     "name": "stdout",
     "output_type": "stream",
     "text": [
      "RMSE of ALS Model is 0.390683.\n"
     ]
    }
   ],
   "source": [
    "ind_matrix = np.zeros((nb_users, nb_movies))\n",
    "ind_matrix = np.where(data_matrix != 0, 1, 0)\n",
    "\n",
    "x = np.multiply(X_pred, ind_matrix)\n",
    "RMSE_ALS = np.sqrt(np.mean((x - data_matrix)**2))\n",
    "print(\"RMSE of ALS Model is %f.\" %RMSE_ALS)"
   ]
  },
  {
   "cell_type": "code",
   "execution_count": 17,
   "metadata": {},
   "outputs": [
    {
     "name": "stdout",
     "output_type": "stream",
     "text": [
      "Customer ID1\n",
      "Generating Preferences for customer ID 1\n"
     ]
    }
   ],
   "source": [
    "a = int(input(\"Customer ID\"))\n",
    "print(\"Generating Preferences for customer ID\",a)"
   ]
  },
  {
   "cell_type": "code",
   "execution_count": 22,
   "metadata": {},
   "outputs": [
    {
     "name": "stdout",
     "output_type": "stream",
     "text": [
      "      movieID    Rating  flag  Fin Rating\n",
      "535       671  0.124143     1    0.124143\n",
      "733      2302  0.115184     1    0.115184\n",
      "981        50  0.107705     1    0.107705\n",
      "744        50  0.106266     1    0.106266\n",
      "729      2273  0.106038     1    0.106038\n",
      "...       ...       ...   ...         ...\n",
      "1509     2706  0.067426     1    0.067426\n",
      "1819     4451  0.066809     1    0.066809\n",
      "1021      225  0.066739     1    0.066739\n",
      "1393     2018  0.066686     1    0.066686\n",
      "1046      329  0.066457     1    0.066457\n",
      "\n",
      "[100 rows x 4 columns]\n"
     ]
    }
   ],
   "source": [
    "#Create an indicator matrix to ensure the movie was not rated previously\n",
    "ind_matrix = np.zeros((nb_users, nb_movies))\n",
    "ind_matrix = np.where(data_matrix == 0, 1, 0)\n",
    "\n",
    "#Multiply predicted rating matrix with this indicator matrix to consider\n",
    "#only the predicted ones\n",
    "pred = np.multiply(data_matrix_pred_ALS, ind_matrix)\n",
    "pred = pred[a-1, :]\n",
    "#pred_df = pd.DataFrame(pred)\n",
    "column_names = [\"movieID\", \"Rating\",'flag']\n",
    "pred_df = pd.DataFrame(columns = column_names)\n",
    "#pred_df = pred_df[pred_df['Rating'] > 0]\n",
    "pred_df['flag']=ind_matrix[a-1,:]\n",
    "pred_df['Rating']=pred\n",
    "pred_df['movieID']=ratings['movieId']\n",
    "pred_df['Fin Rating']=pred_df['flag']*pred_df['Rating']\n",
    "print(pred_df.nlargest(100, 'Fin Rating'))"
   ]
  },
  {
   "cell_type": "code",
   "execution_count": null,
   "metadata": {},
   "outputs": [],
   "source": [
    "movies_df = pd.read_csv('Data/movies_metadata.csv')"
   ]
  },
  {
   "cell_type": "code",
   "execution_count": 11,
   "metadata": {},
   "outputs": [
    {
     "data": {
      "text/plain": [
       "2.5"
      ]
     },
     "execution_count": 11,
     "metadata": {},
     "output_type": "execute_result"
    }
   ],
   "source": [
    "data_matrix[0][30]"
   ]
  },
  {
   "cell_type": "code",
   "execution_count": 12,
   "metadata": {},
   "outputs": [
    {
     "data": {
      "text/plain": [
       "50.0"
      ]
     },
     "execution_count": 12,
     "metadata": {},
     "output_type": "execute_result"
    }
   ],
   "source": [
    "sum(data_matrix_pred_ALS[0,:])"
   ]
  },
  {
   "cell_type": "code",
   "execution_count": 13,
   "metadata": {},
   "outputs": [
    {
     "data": {
      "text/plain": [
       "1"
      ]
     },
     "execution_count": 13,
     "metadata": {},
     "output_type": "execute_result"
    }
   ],
   "source": [
    "ind_matrix[0][29]"
   ]
  },
  {
   "cell_type": "code",
   "execution_count": 33,
   "metadata": {},
   "outputs": [
    {
     "data": {
      "text/plain": [
       "0.04195564673353234"
      ]
     },
     "execution_count": 33,
     "metadata": {},
     "output_type": "execute_result"
    }
   ],
   "source": [
    "pred[567]"
   ]
  },
  {
   "cell_type": "code",
   "execution_count": 15,
   "metadata": {},
   "outputs": [
    {
     "data": {
      "text/plain": [
       "0.0"
      ]
     },
     "execution_count": 15,
     "metadata": {},
     "output_type": "execute_result"
    }
   ],
   "source": [
    "sum(pred)"
   ]
  },
  {
   "cell_type": "code",
   "execution_count": null,
   "metadata": {},
   "outputs": [],
   "source": []
  }
 ],
 "metadata": {
  "kernelspec": {
   "display_name": "Python 3",
   "language": "python",
   "name": "python3"
  },
  "language_info": {
   "codemirror_mode": {
    "name": "ipython",
    "version": 3
   },
   "file_extension": ".py",
   "mimetype": "text/x-python",
   "name": "python",
   "nbconvert_exporter": "python",
   "pygments_lexer": "ipython3",
   "version": "3.7.6"
  }
 },
 "nbformat": 4,
 "nbformat_minor": 4
}
